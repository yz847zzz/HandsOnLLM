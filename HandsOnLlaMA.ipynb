{
 "cells": [
  {
   "cell_type": "code",
   "id": "initial_id",
   "metadata": {
    "collapsed": true,
    "ExecuteTime": {
     "end_time": "2025-02-22T21:14:42.600542Z",
     "start_time": "2025-02-22T21:14:38.821451Z"
    }
   },
   "source": [
    "from pathlib import Path\n",
    "import tiktoken\n",
    "from tiktoken.load import load_tiktoken_bpe\n",
    "import torch\n",
    "import json\n",
    "import matplotlib.pyplot as plt\n",
    "modelPath = \"C:/Users/yuanZ/.llama/checkpoints/Llama3.1-8B\"\n",
    "tokenizer_path = \"C:/Users/yuanZ/.llama/checkpoints/Llama3.1-8B/tokenizer.model\"\n",
    "special_tokens = [\n",
    "            \"<|begin_of_text|>\",\n",
    "            \"<|end_of_text|>\",\n",
    "            \"<|reserved_special_token_0|>\",\n",
    "            \"<|reserved_special_token_1|>\",\n",
    "            \"<|reserved_special_token_2|>\",\n",
    "            \"<|reserved_special_token_3|>\",\n",
    "            \"<|start_header_id|>\",\n",
    "            \"<|end_header_id|>\",\n",
    "            \"<|reserved_special_token_4|>\",\n",
    "            \"<|eot_id|>\",  # end of turn\n",
    "        ] + [f\"<|reserved_special_token_{i}|>\" for i in range(5, 256 - 5)]\n",
    "mergeable_ranks = load_tiktoken_bpe(tokenizer_path)\n",
    "tokenizer = tiktoken.Encoding(\n",
    "    name=Path(tokenizer_path).name,\n",
    "    pat_str=r\"(?i:'s|'t|'re|'ve|'m|'ll|'d)|[^\\r\\n\\p{L}\\p{N}]?\\p{L}+|\\p{N}{1,3}| ?[^\\s\\p{L}\\p{N}]+[\\r\\n]*|\\s*[\\r\\n]+|\\s+(?!\\S)|\\s+\",\n",
    "    mergeable_ranks=mergeable_ranks,\n",
    "    special_tokens={token: len(mergeable_ranks) + i for i, token in enumerate(special_tokens)},\n",
    ")\n",
    "\n",
    "tokenizer.decode(tokenizer.encode(\"hello world!\"))"
   ],
   "outputs": [
    {
     "data": {
      "text/plain": [
       "'hello world!'"
      ]
     },
     "execution_count": 1,
     "metadata": {},
     "output_type": "execute_result"
    }
   ],
   "execution_count": 1
  },
  {
   "metadata": {
    "ExecuteTime": {
     "end_time": "2025-02-22T21:15:44.817009Z",
     "start_time": "2025-02-22T21:15:33.497416Z"
    }
   },
   "cell_type": "code",
   "source": [
    "model = torch.load(modelPath+\"/consolidated.00.pth\")\n",
    "print(json.dumps(list(model.keys())[:20], indent=4))"
   ],
   "id": "bc9a7215260a7164",
   "outputs": [
    {
     "name": "stdout",
     "output_type": "stream",
     "text": [
      "[\n",
      "    \"tok_embeddings.weight\",\n",
      "    \"layers.0.attention.wq.weight\",\n",
      "    \"layers.0.attention.wk.weight\",\n",
      "    \"layers.0.attention.wv.weight\",\n",
      "    \"layers.0.attention.wo.weight\",\n",
      "    \"layers.0.feed_forward.w1.weight\",\n",
      "    \"layers.0.feed_forward.w3.weight\",\n",
      "    \"layers.0.feed_forward.w2.weight\",\n",
      "    \"layers.0.attention_norm.weight\",\n",
      "    \"layers.0.ffn_norm.weight\",\n",
      "    \"layers.1.attention.wq.weight\",\n",
      "    \"layers.1.attention.wk.weight\",\n",
      "    \"layers.1.attention.wv.weight\",\n",
      "    \"layers.1.attention.wo.weight\",\n",
      "    \"layers.1.feed_forward.w1.weight\",\n",
      "    \"layers.1.feed_forward.w3.weight\",\n",
      "    \"layers.1.feed_forward.w2.weight\",\n",
      "    \"layers.1.attention_norm.weight\",\n",
      "    \"layers.1.ffn_norm.weight\",\n",
      "    \"layers.2.attention.wq.weight\"\n",
      "]\n"
     ]
    }
   ],
   "execution_count": 2
  },
  {
   "metadata": {
    "ExecuteTime": {
     "end_time": "2025-02-22T21:15:45.021791Z",
     "start_time": "2025-02-22T21:15:45.000282Z"
    }
   },
   "cell_type": "code",
   "source": [
    "with open(modelPath+\"/params.json\", \"r\") as f:\n",
    "    config = json.load(f)\n",
    "config"
   ],
   "id": "8f661dadf4ac9cf1",
   "outputs": [
    {
     "data": {
      "text/plain": [
       "{'dim': 4096,\n",
       " 'ffn_dim_multiplier': 1.3,\n",
       " 'multiple_of': 1024,\n",
       " 'n_heads': 32,\n",
       " 'n_kv_heads': 8,\n",
       " 'n_layers': 32,\n",
       " 'norm_eps': 1e-05,\n",
       " 'rope_theta': 500000.0,\n",
       " 'use_scaled_rope': True,\n",
       " 'vocab_size': 128256}"
      ]
     },
     "execution_count": 3,
     "metadata": {},
     "output_type": "execute_result"
    }
   ],
   "execution_count": 3
  },
  {
   "metadata": {
    "ExecuteTime": {
     "end_time": "2025-02-22T21:15:45.289746Z",
     "start_time": "2025-02-22T21:15:45.274747Z"
    }
   },
   "cell_type": "code",
   "source": [
    "# use exactly the same structure\n",
    "dim = config[\"dim\"]\n",
    "n_layers = config[\"n_layers\"]\n",
    "n_heads = config[\"n_heads\"]\n",
    "n_kv_heads = config[\"n_kv_heads\"]\n",
    "vocab_size = config[\"vocab_size\"]\n",
    "multiple_of = config[\"multiple_of\"]\n",
    "ffn_dim_multiplier = config[\"ffn_dim_multiplier\"]\n",
    "norm_eps = config[\"norm_eps\"]\n",
    "rope_theta = torch.tensor(config[\"rope_theta\"])"
   ],
   "id": "df8c829b2b33e9bf",
   "outputs": [],
   "execution_count": 4
  },
  {
   "metadata": {
    "ExecuteTime": {
     "end_time": "2025-02-22T22:53:38.220483Z",
     "start_time": "2025-02-22T22:53:38.208485Z"
    }
   },
   "cell_type": "code",
   "source": [
    "prompt = \"Your father's mother is grandma, and your father's father is \"\n",
    "tokens = [128000] + tokenizer.encode(prompt)\n",
    "print(tokens)\n",
    "tokens = torch.tensor(tokens)\n",
    "prompt_split_as_tokens = [tokenizer.decode([token.item()]) for token in tokens]\n",
    "print(prompt_split_as_tokens)\n"
   ],
   "id": "6708152d82439a29",
   "outputs": [
    {
     "name": "stdout",
     "output_type": "stream",
     "text": [
      "[128000, 7927, 7126, 596, 6691, 374, 83777, 11, 323, 701, 7126, 596, 7126, 374, 220]\n",
      "['<|begin_of_text|>', 'Your', ' father', \"'s\", ' mother', ' is', ' grandma', ',', ' and', ' your', ' father', \"'s\", ' father', ' is', ' ']\n"
     ]
    }
   ],
   "execution_count": 144
  },
  {
   "metadata": {
    "ExecuteTime": {
     "end_time": "2025-02-22T22:54:38.661906Z",
     "start_time": "2025-02-22T22:54:36.185378Z"
    }
   },
   "cell_type": "code",
   "source": [
    "device = torch.device(\"cuda:0\")\n",
    "embedding_layer = torch.nn.Embedding(vocab_size, dim)\n",
    "embedding_layer.weight.data.copy_(model[\"tok_embeddings.weight\"])\n",
    "token_embeddings_unnormalized = embedding_layer(tokens).to(torch.bfloat16)\n",
    "token_embeddings_unnormalized = token_embeddings_unnormalized.to(device)\n",
    "print(token_embeddings_unnormalized.device)\n",
    "print(token_embeddings_unnormalized.shape)"
   ],
   "id": "ea682e3c18eec453",
   "outputs": [
    {
     "name": "stdout",
     "output_type": "stream",
     "text": [
      "cuda:0\n",
      "torch.Size([15, 4096])\n"
     ]
    }
   ],
   "execution_count": 149
  },
  {
   "metadata": {
    "ExecuteTime": {
     "end_time": "2025-02-22T22:54:39.600736Z",
     "start_time": "2025-02-22T22:54:39.585737Z"
    }
   },
   "cell_type": "code",
   "source": [
    "def rms_norm(tensor, norm_weight):\n",
    "    return (tensor* torch.rsqrt(tensor.pow(2).mean(-1, keepdim=True) + norm_eps)) * norm_weight"
   ],
   "id": "510b3eadcc95013",
   "outputs": [],
   "execution_count": 150
  },
  {
   "metadata": {
    "ExecuteTime": {
     "end_time": "2025-02-22T22:54:40.786228Z",
     "start_time": "2025-02-22T22:54:40.774227Z"
    }
   },
   "cell_type": "code",
   "source": [
    "token_embeddings = rms_norm(token_embeddings_unnormalized, model[\"layers.0.attention_norm.weight\"])\n",
    "token_embeddings.shape"
   ],
   "id": "ce8adb21ecb7313c",
   "outputs": [
    {
     "data": {
      "text/plain": [
       "torch.Size([15, 4096])"
      ]
     },
     "execution_count": 151,
     "metadata": {},
     "output_type": "execute_result"
    }
   ],
   "execution_count": 151
  },
  {
   "metadata": {
    "ExecuteTime": {
     "end_time": "2025-02-22T22:54:43.442868Z",
     "start_time": "2025-02-22T22:54:43.429867Z"
    }
   },
   "cell_type": "code",
   "source": [
    "print(\n",
    "    model[\"layers.0.attention.wq.weight\"].shape,\n",
    "    model[\"layers.0.attention.wk.weight\"].shape,\n",
    "    model[\"layers.0.attention.wv.weight\"].shape,\n",
    "    model[\"layers.0.attention.wo.weight\"].shape\n",
    ")"
   ],
   "id": "c24bc288a0b474b1",
   "outputs": [
    {
     "name": "stdout",
     "output_type": "stream",
     "text": [
      "torch.Size([4096, 4096]) torch.Size([1024, 4096]) torch.Size([1024, 4096]) torch.Size([4096, 4096])\n"
     ]
    }
   ],
   "execution_count": 152
  },
  {
   "metadata": {
    "ExecuteTime": {
     "end_time": "2025-02-22T22:54:49.605771Z",
     "start_time": "2025-02-22T22:54:49.593769Z"
    }
   },
   "cell_type": "code",
   "source": [
    "# unwrap the queries from multiheads; 32*128 * 4096  ; 32 head, 128 query vector size, 4096 embeddeing dim;\n",
    "q_layer0 = model[\"layers.0.attention.wq.weight\"]\n",
    "head_dim = q_layer0.shape[0] // n_heads\n",
    "q_layer0 = q_layer0.view(n_heads, head_dim, dim)\n",
    "q_layer0.shape"
   ],
   "id": "bd463815d8e46076",
   "outputs": [
    {
     "data": {
      "text/plain": [
       "torch.Size([32, 128, 4096])"
      ]
     },
     "execution_count": 153,
     "metadata": {},
     "output_type": "execute_result"
    }
   ],
   "execution_count": 153
  },
  {
   "metadata": {
    "ExecuteTime": {
     "end_time": "2025-02-22T22:54:50.946931Z",
     "start_time": "2025-02-22T22:54:50.934421Z"
    }
   },
   "cell_type": "code",
   "source": [
    "q_layer0_head0 = q_layer0[0]\n",
    "q_layer0_head0.shape"
   ],
   "id": "600613897e69b914",
   "outputs": [
    {
     "data": {
      "text/plain": [
       "torch.Size([128, 4096])"
      ]
     },
     "execution_count": 154,
     "metadata": {},
     "output_type": "execute_result"
    }
   ],
   "execution_count": 154
  },
  {
   "metadata": {
    "ExecuteTime": {
     "end_time": "2025-02-22T22:54:53.302481Z",
     "start_time": "2025-02-22T22:54:53.289480Z"
    }
   },
   "cell_type": "code",
   "source": [
    "#q_weight * token = q\n",
    "q_per_token = torch.matmul(token_embeddings, q_layer0_head0.T)\n",
    "q_per_token.shape\n",
    "#19 token and 120 length query;"
   ],
   "id": "bdb8031b721a59a",
   "outputs": [
    {
     "data": {
      "text/plain": [
       "torch.Size([15, 128])"
      ]
     },
     "execution_count": 155,
     "metadata": {},
     "output_type": "execute_result"
    }
   ],
   "execution_count": 155
  },
  {
   "metadata": {
    "ExecuteTime": {
     "end_time": "2025-02-22T22:54:55.213182Z",
     "start_time": "2025-02-22T22:54:55.201182Z"
    }
   },
   "cell_type": "code",
   "source": [
    "q_per_token_split_into_pairs = q_per_token.float().view(q_per_token.shape[0], -1, 2)\n",
    "q_per_token_split_into_pairs.shape\n",
    "\n",
    "#splite the vector into pairs so that apply rope"
   ],
   "id": "1b89d55b54948994",
   "outputs": [
    {
     "data": {
      "text/plain": [
       "torch.Size([15, 64, 2])"
      ]
     },
     "execution_count": 156,
     "metadata": {},
     "output_type": "execute_result"
    }
   ],
   "execution_count": 156
  },
  {
   "metadata": {
    "ExecuteTime": {
     "end_time": "2025-02-22T22:54:58.416759Z",
     "start_time": "2025-02-22T22:54:58.404761Z"
    }
   },
   "cell_type": "code",
   "source": [
    "zero_to_one_split_into_64_parts = torch.tensor(range(64))/64\n",
    "zero_to_one_split_into_64_parts"
   ],
   "id": "adfe20ad6f29f024",
   "outputs": [
    {
     "data": {
      "text/plain": [
       "tensor([0.0000, 0.0156, 0.0312, 0.0469, 0.0625, 0.0781, 0.0938, 0.1094, 0.1250,\n",
       "        0.1406, 0.1562, 0.1719, 0.1875, 0.2031, 0.2188, 0.2344, 0.2500, 0.2656,\n",
       "        0.2812, 0.2969, 0.3125, 0.3281, 0.3438, 0.3594, 0.3750, 0.3906, 0.4062,\n",
       "        0.4219, 0.4375, 0.4531, 0.4688, 0.4844, 0.5000, 0.5156, 0.5312, 0.5469,\n",
       "        0.5625, 0.5781, 0.5938, 0.6094, 0.6250, 0.6406, 0.6562, 0.6719, 0.6875,\n",
       "        0.7031, 0.7188, 0.7344, 0.7500, 0.7656, 0.7812, 0.7969, 0.8125, 0.8281,\n",
       "        0.8438, 0.8594, 0.8750, 0.8906, 0.9062, 0.9219, 0.9375, 0.9531, 0.9688,\n",
       "        0.9844])"
      ]
     },
     "execution_count": 157,
     "metadata": {},
     "output_type": "execute_result"
    }
   ],
   "execution_count": 157
  },
  {
   "metadata": {
    "ExecuteTime": {
     "end_time": "2025-02-22T22:54:59.875593Z",
     "start_time": "2025-02-22T22:54:59.861898Z"
    }
   },
   "cell_type": "code",
   "source": [
    "freqs = 1.0 / (rope_theta ** zero_to_one_split_into_64_parts)\n",
    "freqs"
   ],
   "id": "5a1b2aac7bd9ebf7",
   "outputs": [
    {
     "data": {
      "text/plain": [
       "tensor([1.0000e+00, 8.1462e-01, 6.6360e-01, 5.4058e-01, 4.4037e-01, 3.5873e-01,\n",
       "        2.9223e-01, 2.3805e-01, 1.9392e-01, 1.5797e-01, 1.2869e-01, 1.0483e-01,\n",
       "        8.5397e-02, 6.9566e-02, 5.6670e-02, 4.6164e-02, 3.7606e-02, 3.0635e-02,\n",
       "        2.4955e-02, 2.0329e-02, 1.6560e-02, 1.3490e-02, 1.0990e-02, 8.9523e-03,\n",
       "        7.2927e-03, 5.9407e-03, 4.8394e-03, 3.9423e-03, 3.2114e-03, 2.6161e-03,\n",
       "        2.1311e-03, 1.7360e-03, 1.4142e-03, 1.1520e-03, 9.3847e-04, 7.6450e-04,\n",
       "        6.2277e-04, 5.0732e-04, 4.1327e-04, 3.3666e-04, 2.7425e-04, 2.2341e-04,\n",
       "        1.8199e-04, 1.4825e-04, 1.2077e-04, 9.8381e-05, 8.0143e-05, 6.5286e-05,\n",
       "        5.3183e-05, 4.3324e-05, 3.5292e-05, 2.8750e-05, 2.3420e-05, 1.9078e-05,\n",
       "        1.5542e-05, 1.2660e-05, 1.0313e-05, 8.4015e-06, 6.8440e-06, 5.5752e-06,\n",
       "        4.5417e-06, 3.6997e-06, 3.0139e-06, 2.4551e-06])"
      ]
     },
     "execution_count": 158,
     "metadata": {},
     "output_type": "execute_result"
    }
   ],
   "execution_count": 158
  },
  {
   "metadata": {
    "ExecuteTime": {
     "end_time": "2025-02-22T22:55:13.212852Z",
     "start_time": "2025-02-22T22:55:13.075344Z"
    }
   },
   "cell_type": "code",
   "source": [
    "\n",
    "freqs_for_each_token = torch.outer(torch.arange(19), freqs)\n",
    "freqs_cis = torch.polar(torch.ones_like(freqs_for_each_token), freqs_for_each_token)\n",
    "freqs_cis.shape\n",
    "\n",
    "# viewing tjhe third row of freqs_cis\n",
    "value = freqs_cis[3]\n",
    "plt.figure()\n",
    "for i, element in enumerate(value[:19]):\n",
    "    plt.plot([0, element.real], [0, element.imag], color='blue', linewidth=1, label=f\"Index: {i}\")\n",
    "    plt.annotate(f\"{i}\", xy=(element.real, element.imag), color='red')\n",
    "plt.xlabel('Real')\n",
    "plt.ylabel('Imaginary')\n",
    "plt.title('Plot of one row of freqs_cis')\n",
    "plt.show()"
   ],
   "id": "b8cf76f3f5086021",
   "outputs": [
    {
     "data": {
      "text/plain": [
       "<Figure size 640x480 with 1 Axes>"
      ],
      "image/png": "[encoded data removed]"
     },
     "metadata": {},
     "output_type": "display_data"
    }
   ],
   "execution_count": 159
  },
  {
   "metadata": {
    "ExecuteTime": {
     "end_time": "2025-02-22T22:55:17.153404Z",
     "start_time": "2025-02-22T22:55:17.141404Z"
    }
   },
   "cell_type": "code",
   "source": [
    "# now we have compex number for each elements position\n",
    "# torch.Size([19, 64, 2]) => [19,64]\n",
    "q_per_token_as_complex_numbers = torch.view_as_complex(q_per_token_split_into_pairs)\n",
    "q_per_token_as_complex_numbers.shape"
   ],
   "id": "10d0604f1b1dd765",
   "outputs": [
    {
     "data": {
      "text/plain": [
       "torch.Size([15, 64])"
      ]
     },
     "execution_count": 160,
     "metadata": {},
     "output_type": "execute_result"
    }
   ],
   "execution_count": 160
  },
  {
   "metadata": {
    "ExecuteTime": {
     "end_time": "2025-02-22T22:55:34.480835Z",
     "start_time": "2025-02-22T22:55:34.468835Z"
    }
   },
   "cell_type": "code",
   "source": [
    "# add the rope information\n",
    "q_per_token_as_complex_numbers_rotated = q_per_token_as_complex_numbers * freqs_cis.to(device)\n",
    "q_per_token_as_complex_numbers_rotated.shape"
   ],
   "id": "d934b22734387fd4",
   "outputs": [
    {
     "data": {
      "text/plain": [
       "torch.Size([15, 64])"
      ]
     },
     "execution_count": 162,
     "metadata": {},
     "output_type": "execute_result"
    }
   ],
   "execution_count": 162
  },
  {
   "metadata": {
    "ExecuteTime": {
     "end_time": "2025-02-22T22:55:37.254635Z",
     "start_time": "2025-02-22T22:55:37.242635Z"
    }
   },
   "cell_type": "code",
   "source": [
    "#then view the compex number as two real number\n",
    "q_per_token_split_into_pairs_rotated = torch.view_as_real(q_per_token_as_complex_numbers_rotated)\n",
    "q_per_token_split_into_pairs_rotated.shape"
   ],
   "id": "b4a56e07ccb816d9",
   "outputs": [
    {
     "data": {
      "text/plain": [
       "torch.Size([15, 64, 2])"
      ]
     },
     "execution_count": 163,
     "metadata": {},
     "output_type": "execute_result"
    }
   ],
   "execution_count": 163
  },
  {
   "metadata": {
    "ExecuteTime": {
     "end_time": "2025-02-22T22:55:38.028214Z",
     "start_time": "2025-02-22T22:55:38.015216Z"
    }
   },
   "cell_type": "code",
   "source": [
    "#pair merged for dim change from 64 back to 128\n",
    "q_per_token_rotated = q_per_token_split_into_pairs_rotated.view(q_per_token.shape)\n",
    "q_per_token_rotated.shape"
   ],
   "id": "4c0d2a9af95bb3da",
   "outputs": [
    {
     "data": {
      "text/plain": [
       "torch.Size([15, 128])"
      ]
     },
     "execution_count": 164,
     "metadata": {},
     "output_type": "execute_result"
    }
   ],
   "execution_count": 164
  },
  {
   "metadata": {
    "ExecuteTime": {
     "end_time": "2025-02-22T22:55:38.450875Z",
     "start_time": "2025-02-22T22:55:38.437877Z"
    }
   },
   "cell_type": "code",
   "source": [
    "#key are the same: but with 1/4 less weights since the weight for keys are shared across 4 heads at a time\n",
    "k_layer0 = model[\"layers.0.attention.wk.weight\"]\n",
    "print(k_layer0.shape)\n",
    "k_layer0 = k_layer0.view(n_kv_heads, k_layer0.shape[0]// n_kv_heads, dim)\n",
    "k_layer0.shape"
   ],
   "id": "998ece270adc34cb",
   "outputs": [
    {
     "name": "stdout",
     "output_type": "stream",
     "text": [
      "torch.Size([1024, 4096])\n"
     ]
    },
    {
     "data": {
      "text/plain": [
       "torch.Size([8, 128, 4096])"
      ]
     },
     "execution_count": 165,
     "metadata": {},
     "output_type": "execute_result"
    }
   ],
   "execution_count": 165
  },
  {
   "metadata": {
    "ExecuteTime": {
     "end_time": "2025-02-22T22:55:39.041803Z",
     "start_time": "2025-02-22T22:55:39.027802Z"
    }
   },
   "cell_type": "code",
   "source": [
    "# first layer first head as exp:\n",
    "k_layer0_head0 = k_layer0[0]\n",
    "k_layer0_head0.shape"
   ],
   "id": "d4e6290bb0a2c4f6",
   "outputs": [
    {
     "data": {
      "text/plain": [
       "torch.Size([128, 4096])"
      ]
     },
     "execution_count": 166,
     "metadata": {},
     "output_type": "execute_result"
    }
   ],
   "execution_count": 166
  },
  {
   "metadata": {
    "ExecuteTime": {
     "end_time": "2025-02-22T22:55:40.283746Z",
     "start_time": "2025-02-22T22:55:40.270746Z"
    }
   },
   "cell_type": "code",
   "source": [
    "k_per_token = torch.matmul(token_embeddings, k_layer0_head0.T)\n",
    "k_per_token.shape"
   ],
   "id": "a75c22cb96d1ff1b",
   "outputs": [
    {
     "data": {
      "text/plain": [
       "torch.Size([15, 128])"
      ]
     },
     "execution_count": 167,
     "metadata": {},
     "output_type": "execute_result"
    }
   ],
   "execution_count": 167
  },
  {
   "metadata": {
    "ExecuteTime": {
     "end_time": "2025-02-22T22:55:40.891817Z",
     "start_time": "2025-02-22T22:55:40.879817Z"
    }
   },
   "cell_type": "code",
   "source": [
    "k_per_token_split_into_pairs = k_per_token.float().view(k_per_token.shape[0], -1, 2)\n",
    "k_per_token_split_into_pairs.shape"
   ],
   "id": "8a3a0c55eb183b50",
   "outputs": [
    {
     "data": {
      "text/plain": [
       "torch.Size([15, 64, 2])"
      ]
     },
     "execution_count": 168,
     "metadata": {},
     "output_type": "execute_result"
    }
   ],
   "execution_count": 168
  },
  {
   "metadata": {
    "ExecuteTime": {
     "end_time": "2025-02-22T22:55:41.469066Z",
     "start_time": "2025-02-22T22:55:41.456067Z"
    }
   },
   "cell_type": "code",
   "source": [
    "k_per_token_as_complex_numbers = torch.view_as_complex(k_per_token_split_into_pairs)\n",
    "k_per_token_as_complex_numbers.shape"
   ],
   "id": "451db79170adbf73",
   "outputs": [
    {
     "data": {
      "text/plain": [
       "torch.Size([15, 64])"
      ]
     },
     "execution_count": 169,
     "metadata": {},
     "output_type": "execute_result"
    }
   ],
   "execution_count": 169
  },
  {
   "metadata": {
    "ExecuteTime": {
     "end_time": "2025-02-22T22:55:50.665569Z",
     "start_time": "2025-02-22T22:55:50.653569Z"
    }
   },
   "cell_type": "code",
   "source": [
    "k_per_token_split_into_pairs_rotated = torch.view_as_real(k_per_token_as_complex_numbers * freqs_cis.to(device))\n",
    "k_per_token_split_into_pairs_rotated.shape"
   ],
   "id": "1b44dc91ee2407b6",
   "outputs": [
    {
     "data": {
      "text/plain": [
       "torch.Size([15, 64, 2])"
      ]
     },
     "execution_count": 171,
     "metadata": {},
     "output_type": "execute_result"
    }
   ],
   "execution_count": 171
  },
  {
   "metadata": {
    "ExecuteTime": {
     "end_time": "2025-02-22T22:55:52.080340Z",
     "start_time": "2025-02-22T22:55:52.068340Z"
    }
   },
   "cell_type": "code",
   "source": [
    "k_per_token_rotated = k_per_token_split_into_pairs_rotated.view(k_per_token.shape)\n",
    "k_per_token_rotated.shape"
   ],
   "id": "f1702d4acf0add73",
   "outputs": [
    {
     "data": {
      "text/plain": [
       "torch.Size([15, 128])"
      ]
     },
     "execution_count": 172,
     "metadata": {},
     "output_type": "execute_result"
    }
   ],
   "execution_count": 172
  },
  {
   "metadata": {
    "ExecuteTime": {
     "end_time": "2025-02-22T22:55:52.546050Z",
     "start_time": "2025-02-22T22:55:52.531946Z"
    }
   },
   "cell_type": "code",
   "source": [
    "qk_per_token = torch.matmul(q_per_token_rotated, k_per_token_rotated.T)/(head_dim)**0.5\n",
    "qk_per_token.shape"
   ],
   "id": "e18cd037693443bc",
   "outputs": [
    {
     "data": {
      "text/plain": [
       "torch.Size([15, 15])"
      ]
     },
     "execution_count": 173,
     "metadata": {},
     "output_type": "execute_result"
    }
   ],
   "execution_count": 173
  },
  {
   "metadata": {
    "ExecuteTime": {
     "end_time": "2025-02-22T22:55:53.514788Z",
     "start_time": "2025-02-22T22:55:53.395415Z"
    }
   },
   "cell_type": "code",
   "source": [
    "def display_qk_heatmap(qk_per_token):\n",
    "    _, ax = plt.subplots()\n",
    "    ax.grid(False)  # Disable the grid to prevent the warning\n",
    "\n",
    "    im = ax.imshow(qk_per_token.to(float).detach(), cmap='viridis')\n",
    "\n",
    "    ax.set_xticks(range(len(prompt_split_as_tokens)))\n",
    "    ax.set_yticks(range(len(prompt_split_as_tokens)))\n",
    "    ax.set_xticklabels(prompt_split_as_tokens)\n",
    "    ax.set_yticklabels(prompt_split_as_tokens)\n",
    "\n",
    "    ax.figure.colorbar(im, ax=ax)\n",
    "\n",
    "display_qk_heatmap(qk_per_token.to('cpu'))\n"
   ],
   "id": "650e39c4d175b62a",
   "outputs": [
    {
     "name": "stderr",
     "output_type": "stream",
     "text": [
      "C:\\Users\\yuanZ\\AppData\\Local\\Temp\\ipykernel_29984\\3274468530.py:12: MatplotlibDeprecationWarning: Auto-removal of grids by pcolor() and pcolormesh() is deprecated since 3.5 and will be removed two minor releases later; please call grid(False) first.\n",
      "  ax.figure.colorbar(im, ax=ax)\n"
     ]
    },
    {
     "data": {
      "text/plain": [
       "<Figure size 640x480 with 2 Axes>"
      ],
      "image/png": "[encoded data removed]"
     },
     "metadata": {},
     "output_type": "display_data"
    }
   ],
   "execution_count": 174
  },
  {
   "metadata": {
    "ExecuteTime": {
     "end_time": "2025-02-22T22:55:55.479042Z",
     "start_time": "2025-02-22T22:55:55.470040Z"
    }
   },
   "cell_type": "code",
   "source": [
    "# currently each token will pay more attention to previous, but also have attenthion to future; then we need mask\n",
    "mask = torch.full((len(tokens), len(tokens)), float('-inf'), device=tokens.device )\n",
    "mask = torch.triu(mask, diagonal=1)\n",
    "mask"
   ],
   "id": "bdf45e21bbd3edc",
   "outputs": [
    {
     "data": {
      "text/plain": [
       "tensor([[0., -inf, -inf, -inf, -inf, -inf, -inf, -inf, -inf, -inf, -inf, -inf, -inf, -inf, -inf],\n",
       "        [0., 0., -inf, -inf, -inf, -inf, -inf, -inf, -inf, -inf, -inf, -inf, -inf, -inf, -inf],\n",
       "        [0., 0., 0., -inf, -inf, -inf, -inf, -inf, -inf, -inf, -inf, -inf, -inf, -inf, -inf],\n",
       "        [0., 0., 0., 0., -inf, -inf, -inf, -inf, -inf, -inf, -inf, -inf, -inf, -inf, -inf],\n",
       "        [0., 0., 0., 0., 0., -inf, -inf, -inf, -inf, -inf, -inf, -inf, -inf, -inf, -inf],\n",
       "        [0., 0., 0., 0., 0., 0., -inf, -inf, -inf, -inf, -inf, -inf, -inf, -inf, -inf],\n",
       "        [0., 0., 0., 0., 0., 0., 0., -inf, -inf, -inf, -inf, -inf, -inf, -inf, -inf],\n",
       "        [0., 0., 0., 0., 0., 0., 0., 0., -inf, -inf, -inf, -inf, -inf, -inf, -inf],\n",
       "        [0., 0., 0., 0., 0., 0., 0., 0., 0., -inf, -inf, -inf, -inf, -inf, -inf],\n",
       "        [0., 0., 0., 0., 0., 0., 0., 0., 0., 0., -inf, -inf, -inf, -inf, -inf],\n",
       "        [0., 0., 0., 0., 0., 0., 0., 0., 0., 0., 0., -inf, -inf, -inf, -inf],\n",
       "        [0., 0., 0., 0., 0., 0., 0., 0., 0., 0., 0., 0., -inf, -inf, -inf],\n",
       "        [0., 0., 0., 0., 0., 0., 0., 0., 0., 0., 0., 0., 0., -inf, -inf],\n",
       "        [0., 0., 0., 0., 0., 0., 0., 0., 0., 0., 0., 0., 0., 0., -inf],\n",
       "        [0., 0., 0., 0., 0., 0., 0., 0., 0., 0., 0., 0., 0., 0., 0.]])"
      ]
     },
     "execution_count": 175,
     "metadata": {},
     "output_type": "execute_result"
    }
   ],
   "execution_count": 175
  },
  {
   "metadata": {
    "ExecuteTime": {
     "end_time": "2025-02-22T22:55:56.605848Z",
     "start_time": "2025-02-22T22:55:56.484477Z"
    }
   },
   "cell_type": "code",
   "source": [
    "qk_per_token_after_masking = qk_per_token.to('cpu') + mask\n",
    "display_qk_heatmap(qk_per_token_after_masking)"
   ],
   "id": "b532ef9d4936c2d",
   "outputs": [
    {
     "name": "stderr",
     "output_type": "stream",
     "text": [
      "C:\\Users\\yuanZ\\AppData\\Local\\Temp\\ipykernel_29984\\3274468530.py:12: MatplotlibDeprecationWarning: Auto-removal of grids by pcolor() and pcolormesh() is deprecated since 3.5 and will be removed two minor releases later; please call grid(False) first.\n",
      "  ax.figure.colorbar(im, ax=ax)\n"
     ]
    },
    {
     "data": {
      "text/plain": [
       "<Figure size 640x480 with 2 Axes>"
      ],
      "image/png": "[encoded data removed]"
     },
     "metadata": {},
     "output_type": "display_data"
    }
   ],
   "execution_count": 176
  },
  {
   "metadata": {
    "ExecuteTime": {
     "end_time": "2025-02-22T22:55:57.291498Z",
     "start_time": "2025-02-22T22:55:57.139746Z"
    }
   },
   "cell_type": "code",
   "source": [
    "# after softmax\n",
    "qk_per_token_after_masking_after_softmax = torch.nn.functional.softmax(qk_per_token_after_masking, dim=1).to(torch.bfloat16)\n",
    "display_qk_heatmap(qk_per_token_after_masking_after_softmax)"
   ],
   "id": "7057f0106777531f",
   "outputs": [
    {
     "name": "stderr",
     "output_type": "stream",
     "text": [
      "C:\\Users\\yuanZ\\AppData\\Local\\Temp\\ipykernel_29984\\3274468530.py:12: MatplotlibDeprecationWarning: Auto-removal of grids by pcolor() and pcolormesh() is deprecated since 3.5 and will be removed two minor releases later; please call grid(False) first.\n",
      "  ax.figure.colorbar(im, ax=ax)\n"
     ]
    },
    {
     "data": {
      "text/plain": [
       "<Figure size 640x480 with 2 Axes>"
      ],
      "image/png": "[encoded data removed]"
     },
     "metadata": {},
     "output_type": "display_data"
    }
   ],
   "execution_count": 177
  },
  {
   "metadata": {
    "ExecuteTime": {
     "end_time": "2025-02-22T22:56:02.876432Z",
     "start_time": "2025-02-22T22:56:02.864434Z"
    }
   },
   "cell_type": "code",
   "source": [
    "# value vector also have 8 head since each 4 attention heads share the same weight:\n",
    "v_layer0 = model[\"layers.0.attention.wv.weight\"]\n",
    "v_layer0 = v_layer0.view(n_kv_heads, v_layer0.shape[0] // n_kv_heads, dim)\n",
    "v_layer0.shape"
   ],
   "id": "1bdbddf36b53fa2d",
   "outputs": [
    {
     "data": {
      "text/plain": [
       "torch.Size([8, 128, 4096])"
      ]
     },
     "execution_count": 178,
     "metadata": {},
     "output_type": "execute_result"
    }
   ],
   "execution_count": 178
  },
  {
   "metadata": {
    "ExecuteTime": {
     "end_time": "2025-02-22T22:56:03.551116Z",
     "start_time": "2025-02-22T22:56:03.538645Z"
    }
   },
   "cell_type": "code",
   "source": [
    "# fist layer first head:\n",
    "v_layer0_head0 = v_layer0[0]\n",
    "v_layer0_head0.shape"
   ],
   "id": "cf5785887c924ddc",
   "outputs": [
    {
     "data": {
      "text/plain": [
       "torch.Size([128, 4096])"
      ]
     },
     "execution_count": 179,
     "metadata": {},
     "output_type": "execute_result"
    }
   ],
   "execution_count": 179
  },
  {
   "metadata": {
    "ExecuteTime": {
     "end_time": "2025-02-22T22:56:04.003396Z",
     "start_time": "2025-02-22T22:56:03.990397Z"
    }
   },
   "cell_type": "code",
   "source": [
    "#Vweight* token = V\n",
    "v_per_token = torch.matmul(token_embeddings, v_layer0_head0.T)\n",
    "v_per_token.shape"
   ],
   "id": "4705489a99795e57",
   "outputs": [
    {
     "data": {
      "text/plain": [
       "torch.Size([15, 128])"
      ]
     },
     "execution_count": 180,
     "metadata": {},
     "output_type": "execute_result"
    }
   ],
   "execution_count": 180
  },
  {
   "metadata": {
    "ExecuteTime": {
     "end_time": "2025-02-22T22:56:04.407010Z",
     "start_time": "2025-02-22T22:56:04.393009Z"
    }
   },
   "cell_type": "code",
   "source": [
    "#finnal attention value for first layer first head:\n",
    "# 19X19   *  19X128 => 19X128\n",
    "qkv_attention = torch.matmul(qk_per_token_after_masking_after_softmax, v_per_token.to('cpu'))\n",
    "qkv_attention.shape"
   ],
   "id": "54dc067c0df0d19e",
   "outputs": [
    {
     "data": {
      "text/plain": [
       "torch.Size([15, 128])"
      ]
     },
     "execution_count": 181,
     "metadata": {},
     "output_type": "execute_result"
    }
   ],
   "execution_count": 181
  },
  {
   "metadata": {
    "ExecuteTime": {
     "end_time": "2025-02-22T22:56:05.372044Z",
     "start_time": "2025-02-22T22:56:05.313537Z"
    }
   },
   "cell_type": "code",
   "source": [
    "# do the exactly same math for the first layer 32 head;\n",
    "device = torch.device('cuda:0')\n",
    "qkv_attention_store = []\n",
    "token_embeddings = token_embeddings.to(device)\n",
    "for head in range(n_heads):\n",
    "    q_layer0_head = q_layer0[head].to(device)\n",
    "    k_layer0_head = k_layer0[head//4].to(device) # 4 heads share the same weights\n",
    "    v_layer0_head = v_layer0[head//4].to(device)\n",
    "    # step 1, get the vector:\n",
    "    q_per_token = torch.matmul(token_embeddings, q_layer0_head.T) #[19,128]\n",
    "    k_per_token = torch.matmul(token_embeddings, k_layer0_head.T)\n",
    "    v_per_token = torch.matmul(token_embeddings, v_layer0_head.T)\n",
    "    # step 2, add the rppe for q and k:\n",
    "    q_per_token_split_into_pairs = q_per_token.float().view(q_per_token.shape[0], -1, 2) #[19,64,2]\n",
    "    q_per_token_split_as_complex_numbers = torch.view_as_complex(q_per_token_split_into_pairs) #[19,64]\n",
    "    q_per_token_split_into_pairs_rotated = torch.view_as_real(q_per_token_split_as_complex_numbers * freqs_cis[:len(tokens)].to(device) ) #[19,64,2]\n",
    "    q_per_token_rotated = q_per_token_split_into_pairs_rotated.view(q_per_token.shape)  # [19,128]\n",
    "\n",
    "    k_per_token_split_into_pairs = k_per_token.float().view(k_per_token.shape[0], -1, 2)\n",
    "    k_per_token_split_as_complex_numbers = torch.view_as_complex(k_per_token_split_into_pairs)\n",
    "    k_per_token_split_into_pairs_rotated = torch.view_as_real(k_per_token_split_as_complex_numbers * freqs_cis[:len(tokens)].to(device) )\n",
    "    k_per_token_rotated = k_per_token_split_into_pairs_rotated.view(k_per_token.shape)\n",
    "\n",
    "    # step 3, get qk matrix\n",
    "    qk_per_token = torch.matmul(q_per_token_rotated, k_per_token_rotated.T)/(128)**0.5  # 19X128 * 128*19 = 19*19\n",
    "\n",
    "    #step 4 add mask, softmax\n",
    "    mask = torch.full((len(tokens), len(tokens)), float(\"-inf\"), device=tokens.device)\n",
    "    mask = torch.triu(mask, diagonal=1).to(device)\n",
    "    qk_per_token_after_masking = qk_per_token + mask\n",
    "    qk_per_token_after_masking_after_softmax = torch.nn.functional.softmax(qk_per_token_after_masking, dim=1).to(torch.bfloat16)\n",
    "\n",
    "    #step 5, get the attention's output value\n",
    "    qkv_attention = torch.matmul(qk_per_token_after_masking_after_softmax, v_per_token) # 19X19 * 19X128 = 19X128\n",
    "    qkv_attention_store.append(qkv_attention)\n",
    "\n",
    "len(qkv_attention_store)"
   ],
   "id": "db3f93aff776a9ae",
   "outputs": [
    {
     "data": {
      "text/plain": [
       "32"
      ]
     },
     "execution_count": 182,
     "metadata": {},
     "output_type": "execute_result"
    }
   ],
   "execution_count": 182
  },
  {
   "metadata": {
    "ExecuteTime": {
     "end_time": "2025-02-22T22:56:06.130449Z",
     "start_time": "2025-02-22T22:56:06.116473Z"
    }
   },
   "cell_type": "code",
   "source": "qkv_attention_store[1].shape # we have 32 heads, in each, we have 19*128 matrix",
   "id": "97cded017417b469",
   "outputs": [
    {
     "data": {
      "text/plain": [
       "torch.Size([15, 128])"
      ]
     },
     "execution_count": 183,
     "metadata": {},
     "output_type": "execute_result"
    }
   ],
   "execution_count": 183
  },
  {
   "metadata": {
    "ExecuteTime": {
     "end_time": "2025-02-22T22:56:06.672968Z",
     "start_time": "2025-02-22T22:56:06.659968Z"
    }
   },
   "cell_type": "code",
   "source": [
    "# then we concate them into a large matrix as [19, 32*128]\n",
    "stacked_qkv_attention = torch.cat(qkv_attention_store, dim=-1)\n",
    "stacked_qkv_attention.shape"
   ],
   "id": "987af1e4898877e8",
   "outputs": [
    {
     "data": {
      "text/plain": [
       "torch.Size([15, 4096])"
      ]
     },
     "execution_count": 184,
     "metadata": {},
     "output_type": "execute_result"
    }
   ],
   "execution_count": 184
  },
  {
   "metadata": {
    "ExecuteTime": {
     "end_time": "2025-02-22T22:56:07.112705Z",
     "start_time": "2025-02-22T22:56:07.098705Z"
    }
   },
   "cell_type": "code",
   "source": [
    "#multiply the attention with weight matrix:\n",
    "w_layer0 = model[\"layers.0.attention.wo.weight\"].to(device)\n",
    "print(w_layer0.shape)\n",
    "embedding_delta = torch.matmul(stacked_qkv_attention, w_layer0.T)\n",
    "embedding_delta.shape"
   ],
   "id": "c09987ba52123b7c",
   "outputs": [
    {
     "name": "stdout",
     "output_type": "stream",
     "text": [
      "torch.Size([4096, 4096])\n"
     ]
    },
    {
     "data": {
      "text/plain": [
       "torch.Size([15, 4096])"
      ]
     },
     "execution_count": 185,
     "metadata": {},
     "output_type": "execute_result"
    }
   ],
   "execution_count": 185
  },
  {
   "metadata": {
    "ExecuteTime": {
     "end_time": "2025-02-22T22:56:07.598484Z",
     "start_time": "2025-02-22T22:56:07.586484Z"
    }
   },
   "cell_type": "code",
   "source": [
    "#this is the output of the self-attention head moduel, which will add to the original embeded token and norm\n",
    "embedding_after_edit = token_embeddings_unnormalized.to(device) + embedding_delta\n",
    "print(embedding_after_edit.shape)\n",
    "embedding_after_edit_normalized = rms_norm(embedding_after_edit, model[\"layers.0.ffn_norm.weight\"].to(device))\n",
    "embedding_after_edit_normalized.shape"
   ],
   "id": "90397ff423fd694a",
   "outputs": [
    {
     "name": "stdout",
     "output_type": "stream",
     "text": [
      "torch.Size([15, 4096])\n"
     ]
    },
    {
     "data": {
      "text/plain": [
       "torch.Size([15, 4096])"
      ]
     },
     "execution_count": 186,
     "metadata": {},
     "output_type": "execute_result"
    }
   ],
   "execution_count": 186
  },
  {
   "metadata": {
    "ExecuteTime": {
     "end_time": "2025-02-22T22:56:08.139898Z",
     "start_time": "2025-02-22T22:56:08.125893Z"
    }
   },
   "cell_type": "code",
   "source": [
    "# then the edit x will input into FFN, in LlaMA, we use SwiGLU FFN\n",
    "w1 = model[\"layers.0.feed_forward.w1.weight\"].to(device)\n",
    "w2 = model[\"layers.0.feed_forward.w2.weight\"].to(device)\n",
    "w3 = model[\"layers.0.feed_forward.w3.weight\"].to(device)\n",
    "output_after_feedforward = torch.matmul(torch.functional.F.silu(torch.matmul(embedding_after_edit_normalized, w1.T)) * torch.matmul(embedding_after_edit_normalized, w3.T), w2.T)\n",
    "output_after_feedforward.shape\n",
    "#finnaly we get the output of the first layer encoder!"
   ],
   "id": "85018a43ecf32f26",
   "outputs": [
    {
     "data": {
      "text/plain": [
       "torch.Size([15, 4096])"
      ]
     },
     "execution_count": 187,
     "metadata": {},
     "output_type": "execute_result"
    }
   ],
   "execution_count": 187
  },
  {
   "metadata": {
    "ExecuteTime": {
     "end_time": "2025-02-22T22:56:31.121706Z",
     "start_time": "2025-02-22T22:56:30.533106Z"
    }
   },
   "cell_type": "code",
   "source": [
    "final_embedding = token_embeddings_unnormalized.to(device)\n",
    "device = torch.device('cuda:0')\n",
    "for layer in range(n_layers):\n",
    "    qkv_attention_store = []\n",
    "    layer_embedding_norm = rms_norm(final_embedding, model[f\"layers.{layer}.attention_norm.weight\"])\n",
    "    q_layer = model[f\"layers.{layer}.attention.wq.weight\"]\n",
    "    q_layer = q_layer.view(n_heads, q_layer.shape[0] // n_heads, dim)\n",
    "    k_layer = model[f\"layers.{layer}.attention.wk.weight\"]\n",
    "    k_layer = k_layer.view(n_kv_heads, k_layer.shape[0] // n_kv_heads, dim)\n",
    "    v_layer = model[f\"layers.{layer}.attention.wv.weight\"]\n",
    "    v_layer = v_layer.view(n_kv_heads, v_layer.shape[0] // n_kv_heads, dim)\n",
    "    w_layer = model[f\"layers.{layer}.attention.wo.weight\"]\n",
    "    for head in range(n_heads):\n",
    "        q_layer_head = q_layer[head]\n",
    "        k_layer_head = k_layer[head//4]\n",
    "        v_layer_head = v_layer[head//4]\n",
    "        q_per_token = torch.matmul(layer_embedding_norm, q_layer_head.T)\n",
    "        k_per_token = torch.matmul(layer_embedding_norm, k_layer_head.T)\n",
    "        v_per_token = torch.matmul(layer_embedding_norm, v_layer_head.T)\n",
    "        q_per_token_split_into_pairs = q_per_token.float().view(q_per_token.shape[0], -1, 2)\n",
    "        q_per_token_as_complex_numbers = torch.view_as_complex(q_per_token_split_into_pairs)\n",
    "        q_per_token_split_into_pairs_rotated = torch.view_as_real(q_per_token_as_complex_numbers * freqs_cis.to(device))\n",
    "        q_per_token_rotated = q_per_token_split_into_pairs_rotated.view(q_per_token.shape)\n",
    "        k_per_token_split_into_pairs = k_per_token.float().view(k_per_token.shape[0], -1, 2)\n",
    "        k_per_token_as_complex_numbers = torch.view_as_complex(k_per_token_split_into_pairs)\n",
    "        k_per_token_split_into_pairs_rotated = torch.view_as_real(k_per_token_as_complex_numbers * freqs_cis.to(device))\n",
    "        k_per_token_rotated = k_per_token_split_into_pairs_rotated.view(k_per_token.shape)\n",
    "        qk_per_token = torch.matmul(q_per_token_rotated, k_per_token_rotated.T)/(128)**0.5\n",
    "        mask = torch.full((len(token_embeddings_unnormalized), len(token_embeddings_unnormalized)), float(\"-inf\"))\n",
    "        mask = torch.triu(mask, diagonal=1).to(device)\n",
    "        qk_per_token_after_masking = qk_per_token + mask\n",
    "        qk_per_token_after_masking_after_softmax = torch.nn.functional.softmax(qk_per_token_after_masking, dim=1).to(torch.bfloat16)\n",
    "        qkv_attention = torch.matmul(qk_per_token_after_masking_after_softmax, v_per_token)\n",
    "        qkv_attention_store.append(qkv_attention)\n",
    "\n",
    "    stacked_qkv_attention = torch.cat(qkv_attention_store, dim=-1)\n",
    "    w_layer = model[f\"layers.{layer}.attention.wo.weight\"]\n",
    "    embedding_delta = torch.matmul(stacked_qkv_attention, w_layer.T)\n",
    "    embedding_after_edit = final_embedding + embedding_delta\n",
    "    embedding_after_edit_normalized = rms_norm(embedding_after_edit, model[f\"layers.{layer}.ffn_norm.weight\"])\n",
    "    w1 = model[f\"layers.{layer}.feed_forward.w1.weight\"]\n",
    "    w2 = model[f\"layers.{layer}.feed_forward.w2.weight\"]\n",
    "    w3 = model[f\"layers.{layer}.feed_forward.w3.weight\"]\n",
    "    output_after_feedforward = torch.matmul(torch.functional.F.silu(torch.matmul(embedding_after_edit_normalized, w1.T)) * torch.matmul(embedding_after_edit_normalized, w3.T), w2.T)\n",
    "    final_embedding = embedding_after_edit+output_after_feedforward"
   ],
   "id": "fa5c79b28f6b9bf5",
   "outputs": [],
   "execution_count": 190
  },
  {
   "metadata": {
    "ExecuteTime": {
     "end_time": "2025-02-22T22:56:32.185555Z",
     "start_time": "2025-02-22T22:56:32.172468Z"
    }
   },
   "cell_type": "code",
   "source": [
    "final_embedding = rms_norm(final_embedding, model[\"norm.weight\"])\n",
    "final_embedding.shape"
   ],
   "id": "247229b9c3f13c5d",
   "outputs": [
    {
     "data": {
      "text/plain": [
       "torch.Size([15, 4096])"
      ]
     },
     "execution_count": 191,
     "metadata": {},
     "output_type": "execute_result"
    }
   ],
   "execution_count": 191
  },
  {
   "metadata": {
    "ExecuteTime": {
     "end_time": "2025-02-22T22:56:32.678540Z",
     "start_time": "2025-02-22T22:56:32.666541Z"
    }
   },
   "cell_type": "code",
   "source": [
    "# decode:\n",
    "model[\"output.weight\"].shape"
   ],
   "id": "5ad481cb0e35edbf",
   "outputs": [
    {
     "data": {
      "text/plain": [
       "torch.Size([128256, 4096])"
      ]
     },
     "execution_count": 192,
     "metadata": {},
     "output_type": "execute_result"
    }
   ],
   "execution_count": 192
  },
  {
   "metadata": {
    "ExecuteTime": {
     "end_time": "2025-02-22T22:56:33.224449Z",
     "start_time": "2025-02-22T22:56:33.085380Z"
    }
   },
   "cell_type": "code",
   "source": [
    "logits = torch.matmul(final_embedding[-1], model[\"output.weight\"].T)\n",
    "logits.shape"
   ],
   "id": "baedf88420d5e03f",
   "outputs": [
    {
     "data": {
      "text/plain": [
       "torch.Size([128256])"
      ]
     },
     "execution_count": 193,
     "metadata": {},
     "output_type": "execute_result"
    }
   ],
   "execution_count": 193
  },
  {
   "metadata": {
    "ExecuteTime": {
     "end_time": "2025-02-22T22:57:17.625015Z",
     "start_time": "2025-02-22T22:57:17.614015Z"
    }
   },
   "cell_type": "code",
   "source": [
    "next_token = torch.argmax(logits, dim=-1)\n",
    "next_token"
   ],
   "id": "c3de3b0402d9bd58",
   "outputs": [
    {
     "data": {
      "text/plain": [
       "tensor(4194, device='cuda:0')"
      ]
     },
     "execution_count": 196,
     "metadata": {},
     "output_type": "execute_result"
    }
   ],
   "execution_count": 196
  },
  {
   "metadata": {
    "ExecuteTime": {
     "end_time": "2025-02-22T22:56:34.125568Z",
     "start_time": "2025-02-22T22:56:34.111565Z"
    }
   },
   "cell_type": "code",
   "source": "tokenizer.decode([next_token.item()])",
   "id": "ceb9c1f296d07109",
   "outputs": [
    {
     "data": {
      "text/plain": [
       "'\\xa0'"
      ]
     },
     "execution_count": 195,
     "metadata": {},
     "output_type": "execute_result"
    }
   ],
   "execution_count": 195
  },
  {
   "metadata": {
    "ExecuteTime": {
     "end_time": "2025-02-22T22:56:34.640948Z",
     "start_time": "2025-02-22T22:56:34.625950Z"
    }
   },
   "cell_type": "code",
   "source": "",
   "id": "bb81181d97ef2ce",
   "outputs": [],
   "execution_count": null
  }
 ],
 "metadata": {
  "kernelspec": {
   "display_name": "Python 3",
   "language": "python",
   "name": "python3"
  },
  "language_info": {
   "codemirror_mode": {
    "name": "ipython",
    "version": 2
   },
   "file_extension": ".py",
   "mimetype": "text/x-python",
   "name": "python",
   "nbconvert_exporter": "python",
   "pygments_lexer": "ipython2",
   "version": "2.7.6"
  }
 },
 "nbformat": 4,
 "nbformat_minor": 5
}
